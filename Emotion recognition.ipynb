{
 "cells": [
  {
   "cell_type": "code",
   "execution_count": 1,
   "metadata": {},
   "outputs": [
    {
     "name": "stderr",
     "output_type": "stream",
     "text": [
      "Using TensorFlow backend.\n"
     ]
    }
   ],
   "source": [
    "import numpy as np\n",
    "import matplotlib.pyplot as plt\n",
    "import keras\n",
    "import cv2\n",
    "from keras.models import Sequential\n",
    "from keras.optimizers import Adam\n",
    "from keras.layers import Dense\n",
    "from keras.utils.np_utils import to_categorical\n",
    "from keras.layers import Dropout, Flatten\n",
    "from keras.layers.convolutional import Conv2D, MaxPooling2D, AveragePooling2D\n",
    "from sklearn.model_selection import train_test_split\n",
    "import random\n",
    "import pandas as pd"
   ]
  },
  {
   "cell_type": "code",
   "execution_count": 2,
   "metadata": {},
   "outputs": [],
   "source": [
    "df = pd.read_csv('data/train.csv')"
   ]
  },
  {
   "cell_type": "code",
   "execution_count": 3,
   "metadata": {},
   "outputs": [],
   "source": [
    "image = np.asarray(df['Pixels'])\n",
    "y_train = np.asarray(df['Emotion'])"
   ]
  },
  {
   "cell_type": "markdown",
   "metadata": {},
   "source": [
    "## Data Preprocessing"
   ]
  },
  {
   "cell_type": "code",
   "execution_count": 4,
   "metadata": {},
   "outputs": [],
   "source": [
    "X_train = []\n",
    "for i in range(np.shape(image)[0]):\n",
    "    im = image[i]\n",
    "    im = im.split(' ')\n",
    "    im = np.asarray(im)\n",
    "    X_train.append(im.reshape(48, 48))"
   ]
  },
  {
   "cell_type": "code",
   "execution_count": 5,
   "metadata": {},
   "outputs": [
    {
     "name": "stdout",
     "output_type": "stream",
     "text": [
      "(4178, 48, 48)\n",
      "(4178,)\n"
     ]
    }
   ],
   "source": [
    "X_train = np.asarray(X_train, dtype = float)\n",
    "print(X_train.shape)\n",
    "print(y_train.shape)"
   ]
  },
  {
   "cell_type": "code",
   "execution_count": null,
   "metadata": {},
   "outputs": [],
   "source": []
  },
  {
   "cell_type": "code",
   "execution_count": 6,
   "metadata": {},
   "outputs": [
    {
     "name": "stdout",
     "output_type": "stream",
     "text": [
      "3\n"
     ]
    },
    {
     "data": {
      "text/plain": [
       "<matplotlib.image.AxesImage at 0x7fb5a7ce7ef0>"
      ]
     },
     "execution_count": 6,
     "metadata": {},
     "output_type": "execute_result"
    },
    {
     "data": {
      "image/png": "[encoded data removed]",
      "text/plain": [
       "<Figure size 432x288 with 1 Axes>"
      ]
     },
     "metadata": {
      "needs_background": "light"
     },
     "output_type": "display_data"
    }
   ],
   "source": [
    "x = random.randint(0, np.shape(image)[0])\n",
    "q = np.asarray(X_train[x], dtype=float)\n",
    "print(y_train[x])\n",
    "plt.imshow(q, cmap = plt.get_cmap(\"gray\"))"
   ]
  },
  {
   "cell_type": "code",
   "execution_count": 7,
   "metadata": {},
   "outputs": [],
   "source": [
    "#label = label.reshape(4178, 1)\n",
    "num_classes = 7\n",
    "y_train = to_categorical(y_train, 7)"
   ]
  },
  {
   "cell_type": "code",
   "execution_count": 8,
   "metadata": {},
   "outputs": [
    {
     "name": "stdout",
     "output_type": "stream",
     "text": [
      "(4178, 48, 48)\n"
     ]
    }
   ],
   "source": [
    "print(X_train.shape)"
   ]
  },
  {
   "cell_type": "code",
   "execution_count": 9,
   "metadata": {},
   "outputs": [],
   "source": [
    "X_train = X_train/255"
   ]
  },
  {
   "cell_type": "code",
   "execution_count": 10,
   "metadata": {},
   "outputs": [],
   "source": [
    "X_train = X_train.reshape(4178, 48, 48, 1)"
   ]
  },
  {
   "cell_type": "code",
   "execution_count": null,
   "metadata": {},
   "outputs": [],
   "source": []
  },
  {
   "cell_type": "markdown",
   "metadata": {},
   "source": [
    "## Neural Network"
   ]
  },
  {
   "cell_type": "code",
   "execution_count": 11,
   "metadata": {},
   "outputs": [],
   "source": [
    "def neural_model():\n",
    "    model = Sequential()\n",
    "    model.add(Conv2D(15, (5, 5), input_shape = (48, 48, 1), activation = 'relu'))\n",
    "    model.add(AveragePooling2D(pool_size = (2, 2)))\n",
    "    model.add(Conv2D(15, (5, 5), input_shape = (48, 48, 1), activation = 'relu'))\n",
    "    model.add(MaxPooling2D(pool_size = (2,2)))\n",
    "    \n",
    "    model.add(Conv2D(10, (3, 3), activation = 'relu'))\n",
    "    #model.add(Conv2D(30, (3, 3), activation = 'relu'))\n",
    "    model.add(MaxPooling2D(pool_size = (2, 2)))\n",
    "    \n",
    "    #model.add(Dropout(0.5))\n",
    "    \n",
    "    model.add(Flatten())\n",
    "    model.add(Dense(256, activation = 'relu'))\n",
    "    model.add(Dropout(0.5))\n",
    "    model.add(Dense(128, activation = 'relu'))\n",
    "    model.add(Dropout(0.5))\n",
    "    model.add(Dense(64, activation = 'relu'))\n",
    "    #model.add(Dropout(0.5))\n",
    "    model.add(Dense(32, activation = 'relu'))\n",
    "    #model.add(Dropout(0.5))\n",
    "    model.add(Dense(num_classes, activation = 'softmax'))\n",
    "    model.compile(Adam(lr = 0.001), loss = 'categorical_crossentropy', metrics = ['accuracy'])\n",
    "    return model"
   ]
  },
  {
   "cell_type": "code",
   "execution_count": 12,
   "metadata": {},
   "outputs": [
    {
     "data": {
      "text/plain": [
       "<bound method Network.summary of <keras.engine.sequential.Sequential object at 0x7fb5a7c9c400>>"
      ]
     },
     "execution_count": 12,
     "metadata": {},
     "output_type": "execute_result"
    }
   ],
   "source": [
    "model = neural_model()\n",
    "model.summary"
   ]
  },
  {
   "cell_type": "code",
   "execution_count": 13,
   "metadata": {},
   "outputs": [
    {
     "name": "stdout",
     "output_type": "stream",
     "text": [
      "Train on 2924 samples, validate on 1254 samples\n",
      "Epoch 1/50\n",
      "2924/2924 [==============================] - 5s 2ms/step - loss: 1.8852 - acc: 0.2548 - val_loss: 1.8545 - val_acc: 0.2927\n",
      "Epoch 2/50\n",
      "2924/2924 [==============================] - 5s 2ms/step - loss: 1.8614 - acc: 0.2856 - val_loss: 1.8614 - val_acc: 0.2927\n",
      "Epoch 3/50\n",
      "2924/2924 [==============================] - 5s 2ms/step - loss: 1.8536 - acc: 0.2856 - val_loss: 1.8606 - val_acc: 0.2927\n",
      "Epoch 4/50\n",
      "2924/2924 [==============================] - 5s 2ms/step - loss: 1.8585 - acc: 0.2856 - val_loss: 1.8456 - val_acc: 0.2927\n",
      "Epoch 5/50\n",
      "2924/2924 [==============================] - 6s 2ms/step - loss: 1.8374 - acc: 0.2863 - val_loss: 1.8357 - val_acc: 0.2959\n",
      "Epoch 6/50\n",
      "2924/2924 [==============================] - 6s 2ms/step - loss: 1.7475 - acc: 0.3413 - val_loss: 1.5898 - val_acc: 0.4131\n",
      "Epoch 7/50\n",
      "2924/2924 [==============================] - 6s 2ms/step - loss: 1.5173 - acc: 0.4525 - val_loss: 1.3865 - val_acc: 0.4944\n",
      "Epoch 8/50\n",
      "2924/2924 [==============================] - 10s 3ms/step - loss: 1.3665 - acc: 0.4925 - val_loss: 1.2219 - val_acc: 0.5654\n",
      "Epoch 9/50\n",
      "2924/2924 [==============================] - 7s 2ms/step - loss: 1.2479 - acc: 0.5424 - val_loss: 1.2180 - val_acc: 0.5622\n",
      "Epoch 10/50\n",
      "2924/2924 [==============================] - 6s 2ms/step - loss: 1.1551 - acc: 0.5838 - val_loss: 1.0978 - val_acc: 0.6053\n",
      "Epoch 11/50\n",
      "2924/2924 [==============================] - 9s 3ms/step - loss: 1.0850 - acc: 0.6081 - val_loss: 1.0357 - val_acc: 0.6324\n",
      "Epoch 12/50\n",
      "2924/2924 [==============================] - 8s 3ms/step - loss: 1.0242 - acc: 0.6412 - val_loss: 1.0083 - val_acc: 0.6411\n",
      "Epoch 13/50\n",
      "2924/2924 [==============================] - 7s 3ms/step - loss: 0.9677 - acc: 0.6467 - val_loss: 0.9552 - val_acc: 0.6603\n",
      "Epoch 14/50\n",
      "2924/2924 [==============================] - 8s 3ms/step - loss: 0.9345 - acc: 0.6594 - val_loss: 0.9717 - val_acc: 0.6451\n",
      "Epoch 15/50\n",
      "2924/2924 [==============================] - 6s 2ms/step - loss: 0.9047 - acc: 0.6724 - val_loss: 0.9499 - val_acc: 0.6635\n",
      "Epoch 16/50\n",
      "2924/2924 [==============================] - 6s 2ms/step - loss: 0.8636 - acc: 0.6826 - val_loss: 0.9101 - val_acc: 0.6730\n",
      "Epoch 17/50\n",
      "2924/2924 [==============================] - 7s 2ms/step - loss: 0.8200 - acc: 0.6912 - val_loss: 0.9167 - val_acc: 0.6770\n",
      "Epoch 18/50\n",
      "2924/2924 [==============================] - 6s 2ms/step - loss: 0.8388 - acc: 0.6939 - val_loss: 0.8814 - val_acc: 0.6794\n",
      "Epoch 19/50\n",
      "2924/2924 [==============================] - 6s 2ms/step - loss: 0.7827 - acc: 0.7069 - val_loss: 0.9197 - val_acc: 0.6922\n",
      "Epoch 20/50\n",
      "2924/2924 [==============================] - 6s 2ms/step - loss: 0.7751 - acc: 0.7100 - val_loss: 0.8469 - val_acc: 0.7026\n",
      "Epoch 21/50\n",
      "2924/2924 [==============================] - 6s 2ms/step - loss: 0.7258 - acc: 0.7237 - val_loss: 0.8908 - val_acc: 0.6826\n",
      "Epoch 22/50\n",
      "2924/2924 [==============================] - 6s 2ms/step - loss: 0.7394 - acc: 0.7244 - val_loss: 0.8560 - val_acc: 0.7057\n",
      "Epoch 23/50\n",
      "2924/2924 [==============================] - 6s 2ms/step - loss: 0.6826 - acc: 0.7479 - val_loss: 0.8434 - val_acc: 0.7057\n",
      "Epoch 24/50\n",
      "2924/2924 [==============================] - 6s 2ms/step - loss: 0.6971 - acc: 0.7350 - val_loss: 0.8429 - val_acc: 0.7033\n",
      "Epoch 25/50\n",
      "2924/2924 [==============================] - 6s 2ms/step - loss: 0.6543 - acc: 0.7408 - val_loss: 0.8613 - val_acc: 0.7153\n",
      "Epoch 26/50\n",
      "2924/2924 [==============================] - 6s 2ms/step - loss: 0.6444 - acc: 0.7613 - val_loss: 0.8136 - val_acc: 0.7257\n",
      "Epoch 27/50\n",
      "2924/2924 [==============================] - 6s 2ms/step - loss: 0.6231 - acc: 0.7692 - val_loss: 0.8814 - val_acc: 0.7081\n",
      "Epoch 28/50\n",
      "2924/2924 [==============================] - 6s 2ms/step - loss: 0.6380 - acc: 0.7572 - val_loss: 0.8096 - val_acc: 0.7217\n",
      "Epoch 29/50\n",
      "2924/2924 [==============================] - 5s 2ms/step - loss: 0.5987 - acc: 0.7760 - val_loss: 0.8427 - val_acc: 0.7185\n",
      "Epoch 30/50\n",
      "2924/2924 [==============================] - 6s 2ms/step - loss: 0.5845 - acc: 0.7678 - val_loss: 0.8487 - val_acc: 0.7257\n",
      "Epoch 31/50\n",
      "2924/2924 [==============================] - 6s 2ms/step - loss: 0.5805 - acc: 0.7767 - val_loss: 0.8443 - val_acc: 0.7329\n",
      "Epoch 32/50\n",
      "2924/2924 [==============================] - 6s 2ms/step - loss: 0.5541 - acc: 0.7873 - val_loss: 0.8125 - val_acc: 0.7344\n",
      "Epoch 33/50\n",
      "2924/2924 [==============================] - 6s 2ms/step - loss: 0.5381 - acc: 0.7934 - val_loss: 0.8899 - val_acc: 0.7265\n",
      "Epoch 34/50\n",
      "2924/2924 [==============================] - 6s 2ms/step - loss: 0.5202 - acc: 0.7999 - val_loss: 0.9014 - val_acc: 0.7233\n",
      "Epoch 35/50\n",
      "2924/2924 [==============================] - 6s 2ms/step - loss: 0.5212 - acc: 0.7982 - val_loss: 0.8452 - val_acc: 0.7416\n",
      "Epoch 36/50\n",
      "2924/2924 [==============================] - 6s 2ms/step - loss: 0.5180 - acc: 0.8044 - val_loss: 0.8119 - val_acc: 0.7360\n",
      "Epoch 37/50\n",
      "2924/2924 [==============================] - 6s 2ms/step - loss: 0.4985 - acc: 0.8129 - val_loss: 0.8651 - val_acc: 0.7392\n",
      "Epoch 38/50\n",
      "2924/2924 [==============================] - 6s 2ms/step - loss: 0.4813 - acc: 0.8129 - val_loss: 0.8602 - val_acc: 0.7344\n",
      "Epoch 39/50\n",
      "2924/2924 [==============================] - 6s 2ms/step - loss: 0.4602 - acc: 0.8218 - val_loss: 0.8615 - val_acc: 0.7360\n",
      "Epoch 40/50\n",
      "2924/2924 [==============================] - 6s 2ms/step - loss: 0.4377 - acc: 0.8389 - val_loss: 0.8910 - val_acc: 0.7249\n",
      "Epoch 41/50\n",
      "2924/2924 [==============================] - 6s 2ms/step - loss: 0.4646 - acc: 0.8215 - val_loss: 0.9106 - val_acc: 0.7344\n",
      "Epoch 42/50\n",
      "2924/2924 [==============================] - 6s 2ms/step - loss: 0.4073 - acc: 0.8492 - val_loss: 0.9592 - val_acc: 0.7368\n",
      "Epoch 43/50\n",
      "2924/2924 [==============================] - 6s 2ms/step - loss: 0.4227 - acc: 0.8420 - val_loss: 0.9294 - val_acc: 0.7400\n",
      "Epoch 44/50\n",
      "2924/2924 [==============================] - 6s 2ms/step - loss: 0.4450 - acc: 0.8311 - val_loss: 0.8941 - val_acc: 0.7352\n",
      "Epoch 45/50\n",
      "2924/2924 [==============================] - 6s 2ms/step - loss: 0.4250 - acc: 0.8317 - val_loss: 0.8947 - val_acc: 0.7464\n",
      "Epoch 46/50\n",
      "2924/2924 [==============================] - 6s 2ms/step - loss: 0.4103 - acc: 0.8386 - val_loss: 0.8870 - val_acc: 0.7400\n",
      "Epoch 47/50\n",
      "2924/2924 [==============================] - 6s 2ms/step - loss: 0.3916 - acc: 0.8485 - val_loss: 0.9503 - val_acc: 0.7432\n",
      "Epoch 48/50\n",
      "2924/2924 [==============================] - 6s 2ms/step - loss: 0.3885 - acc: 0.8574 - val_loss: 1.0203 - val_acc: 0.7408\n",
      "Epoch 49/50\n",
      "2924/2924 [==============================] - 6s 2ms/step - loss: 0.3590 - acc: 0.8666 - val_loss: 0.9597 - val_acc: 0.7241\n",
      "Epoch 50/50\n",
      "2924/2924 [==============================] - 6s 2ms/step - loss: 0.3727 - acc: 0.8615 - val_loss: 1.0003 - val_acc: 0.7376\n"
     ]
    }
   ],
   "source": [
    "history = model.fit(X_train, y_train, epochs = 50, validation_split = 0.3, batch_size = 50, verbose = 1, shuffle = True )"
   ]
  },
  {
   "cell_type": "code",
   "execution_count": null,
   "metadata": {},
   "outputs": [],
   "source": []
  },
  {
   "cell_type": "code",
   "execution_count": null,
   "metadata": {},
   "outputs": [],
   "source": []
  }
 ],
 "metadata": {
  "language_info": {
   "codemirror_mode": {
    "name": "ipython",
    "version": 3
   },
   "file_extension": ".py",
   "mimetype": "text/x-python",
   "name": "python",
   "nbconvert_exporter": "python",
   "pygments_lexer": "ipython3",
   "version": "3.6.7"
  }
 },
 "nbformat": 4,
 "nbformat_minor": 2
}
